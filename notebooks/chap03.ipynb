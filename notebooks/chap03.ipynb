{
  "cells": [
    {
      "cell_type": "markdown",
      "metadata": {
        "id": "view-in-github",
        "colab_type": "text"
      },
      "source": [
        "<a href=\"https://colab.research.google.com/github/mmibrahim/think_bayes/blob/main/notebooks/chap03.ipynb\" target=\"_parent\"><img src=\"https://colab.research.google.com/assets/colab-badge.svg\" alt=\"Open In Colab\"/></a>"
      ]
    },
    {
      "cell_type": "markdown",
      "metadata": {
        "id": "1331faa1"
      },
      "source": [
        "You can order print and ebook versions of *Think Bayes 2e* from\n",
        "[Bookshop.org](https://bookshop.org/a/98697/9781492089469) and\n",
        "[Amazon](https://amzn.to/334eqGo)."
      ]
    },
    {
      "cell_type": "markdown",
      "metadata": {
        "id": "gjGSkLKPQg9g"
      },
      "source": [
        "# Distributions"
      ]
    },
    {
      "cell_type": "markdown",
      "metadata": {
        "tags": [],
        "id": "fm6suiorQg9g"
      },
      "source": [
        "Think Bayes, Second Edition\n",
        "\n",
        "Copyright 2020 Allen B. Downey\n",
        "\n",
        "License: [Attribution-NonCommercial-ShareAlike 4.0 International (CC BY-NC-SA 4.0)](https://creativecommons.org/licenses/by-nc-sa/4.0/)"
      ]
    },
    {
      "cell_type": "code",
      "execution_count": 1,
      "metadata": {
        "execution": {
          "iopub.execute_input": "2021-04-16T19:35:12.094262Z",
          "iopub.status.busy": "2021-04-16T19:35:12.093730Z",
          "iopub.status.idle": "2021-04-16T19:35:12.095822Z",
          "shell.execute_reply": "2021-04-16T19:35:12.095402Z"
        },
        "tags": [],
        "colab": {
          "base_uri": "https://localhost:8080/"
        },
        "id": "YQhVXDaQQg9h",
        "outputId": "eb92207f-82e9-479e-e7bb-08bf24745728"
      },
      "outputs": [
        {
          "output_type": "stream",
          "name": "stdout",
          "text": [
            "Collecting empiricaldist\n",
            "  Downloading empiricaldist-0.9.0.tar.gz (14 kB)\n",
            "  Installing build dependencies ... \u001b[?25l\u001b[?25hdone\n",
            "  Getting requirements to build wheel ... \u001b[?25l\u001b[?25hdone\n",
            "  Preparing metadata (pyproject.toml) ... \u001b[?25l\u001b[?25hdone\n",
            "Requirement already satisfied: matplotlib in /usr/local/lib/python3.11/dist-packages (from empiricaldist) (3.10.0)\n",
            "Requirement already satisfied: numpy in /usr/local/lib/python3.11/dist-packages (from empiricaldist) (2.0.2)\n",
            "Requirement already satisfied: pandas in /usr/local/lib/python3.11/dist-packages (from empiricaldist) (2.2.2)\n",
            "Requirement already satisfied: scipy in /usr/local/lib/python3.11/dist-packages (from empiricaldist) (1.15.3)\n",
            "Requirement already satisfied: contourpy>=1.0.1 in /usr/local/lib/python3.11/dist-packages (from matplotlib->empiricaldist) (1.3.2)\n",
            "Requirement already satisfied: cycler>=0.10 in /usr/local/lib/python3.11/dist-packages (from matplotlib->empiricaldist) (0.12.1)\n",
            "Requirement already satisfied: fonttools>=4.22.0 in /usr/local/lib/python3.11/dist-packages (from matplotlib->empiricaldist) (4.58.4)\n",
            "Requirement already satisfied: kiwisolver>=1.3.1 in /usr/local/lib/python3.11/dist-packages (from matplotlib->empiricaldist) (1.4.8)\n",
            "Requirement already satisfied: packaging>=20.0 in /usr/local/lib/python3.11/dist-packages (from matplotlib->empiricaldist) (24.2)\n",
            "Requirement already satisfied: pillow>=8 in /usr/local/lib/python3.11/dist-packages (from matplotlib->empiricaldist) (11.2.1)\n",
            "Requirement already satisfied: pyparsing>=2.3.1 in /usr/local/lib/python3.11/dist-packages (from matplotlib->empiricaldist) (3.2.3)\n",
            "Requirement already satisfied: python-dateutil>=2.7 in /usr/local/lib/python3.11/dist-packages (from matplotlib->empiricaldist) (2.9.0.post0)\n",
            "Requirement already satisfied: pytz>=2020.1 in /usr/local/lib/python3.11/dist-packages (from pandas->empiricaldist) (2025.2)\n",
            "Requirement already satisfied: tzdata>=2022.7 in /usr/local/lib/python3.11/dist-packages (from pandas->empiricaldist) (2025.2)\n",
            "Requirement already satisfied: six>=1.5 in /usr/local/lib/python3.11/dist-packages (from python-dateutil>=2.7->matplotlib->empiricaldist) (1.17.0)\n",
            "Building wheels for collected packages: empiricaldist\n",
            "  Building wheel for empiricaldist (pyproject.toml) ... \u001b[?25l\u001b[?25hdone\n",
            "  Created wheel for empiricaldist: filename=empiricaldist-0.9.0-py3-none-any.whl size=14296 sha256=dfde9244147450f27cad77b6dc24401f91e386bfa03fadffb643dd1249e362e1\n",
            "  Stored in directory: /root/.cache/pip/wheels/96/04/f1/a934ef1f5f3db621dc39566b2c7de45b8c6916044be6a9c9ac\n",
            "Successfully built empiricaldist\n",
            "Installing collected packages: empiricaldist\n",
            "Successfully installed empiricaldist-0.9.0\n"
          ]
        }
      ],
      "source": [
        "# If we're running on Colab, install empiricaldist\n",
        "# https://pypi.org/project/empiricaldist/\n",
        "\n",
        "import sys\n",
        "IN_COLAB = 'google.colab' in sys.modules\n",
        "\n",
        "if IN_COLAB:\n",
        "    !pip install empiricaldist"
      ]
    },
    {
      "cell_type": "code",
      "execution_count": 2,
      "metadata": {
        "execution": {
          "iopub.execute_input": "2021-04-16T19:35:12.099615Z",
          "iopub.status.busy": "2021-04-16T19:35:12.098997Z",
          "iopub.status.idle": "2021-04-16T19:35:12.100895Z",
          "shell.execute_reply": "2021-04-16T19:35:12.101335Z"
        },
        "tags": [],
        "colab": {
          "base_uri": "https://localhost:8080/"
        },
        "id": "WSpE123YQg9i",
        "outputId": "3b75a87f-514d-4b97-a789-94bdd73de280"
      },
      "outputs": [
        {
          "output_type": "stream",
          "name": "stdout",
          "text": [
            "Downloaded utils.py\n"
          ]
        }
      ],
      "source": [
        "# Get utils.py\n",
        "\n",
        "from os.path import basename, exists\n",
        "\n",
        "def download(url):\n",
        "    filename = basename(url)\n",
        "    if not exists(filename):\n",
        "        from urllib.request import urlretrieve\n",
        "        local, _ = urlretrieve(url, filename)\n",
        "        print('Downloaded ' + local)\n",
        "\n",
        "download('https://github.com/AllenDowney/ThinkBayes2/raw/master/soln/utils.py')"
      ]
    },
    {
      "cell_type": "code",
      "execution_count": 3,
      "metadata": {
        "execution": {
          "iopub.execute_input": "2021-04-16T19:35:12.104987Z",
          "iopub.status.busy": "2021-04-16T19:35:12.104287Z",
          "iopub.status.idle": "2021-04-16T19:35:13.067675Z",
          "shell.execute_reply": "2021-04-16T19:35:13.068108Z"
        },
        "tags": [],
        "id": "m2Y1tgEJQg9j"
      },
      "outputs": [],
      "source": [
        "from utils import set_pyplot_params\n",
        "set_pyplot_params()"
      ]
    },
    {
      "cell_type": "markdown",
      "metadata": {
        "id": "rXu2DY4MQg9j"
      },
      "source": [
        "In the previous chapter we used Bayes's Theorem to solve a cookie problem; then we solved it again using a Bayes table.\n",
        "In this chapter, at the risk of testing your patience, we will solve it one more time using a `Pmf` object, which represents a \"probability mass function\".\n",
        "I'll explain what that means, and why it is useful for Bayesian statistics.\n",
        "\n",
        "We'll use `Pmf` objects to solve some more challenging problems and take one more step toward Bayesian statistics.\n",
        "But we'll start with distributions."
      ]
    },
    {
      "cell_type": "markdown",
      "metadata": {
        "id": "q5TJmWNlQg9j"
      },
      "source": [
        "## Distributions\n",
        "\n",
        "In statistics a **distribution** is a set of possible outcomes and their corresponding probabilities.\n",
        "For example, if you toss a coin, there are two possible outcomes with\n",
        "approximately equal probability.\n",
        "If you roll a six-sided die, the set of possible outcomes is the numbers 1 to 6, and the probability associated with each outcome is 1/6.\n",
        "\n",
        "To represent distributions, we'll use a library called `empiricaldist`.\n",
        "An \"empirical\" distribution is based on data, as opposed to a\n",
        "theoretical distribution.\n",
        "We'll use this library throughout the book.  I'll introduce the basic features in this chapter and we'll see additional features later."
      ]
    },
    {
      "cell_type": "markdown",
      "metadata": {
        "id": "v8VHzwQHQg9k"
      },
      "source": [
        "## Probability Mass Functions\n",
        "\n",
        "If the outcomes in a distribution are discrete, we can describe the distribution with a **probability mass function**, or PMF, which is a function that maps from each possible outcome to its probability.\n",
        "\n",
        "`empiricaldist` provides a class called `Pmf` that represents a\n",
        "probability mass function.\n",
        "To use `Pmf` you can import it like this:"
      ]
    },
    {
      "cell_type": "code",
      "execution_count": 4,
      "metadata": {
        "execution": {
          "iopub.execute_input": "2021-04-16T19:35:13.071512Z",
          "iopub.status.busy": "2021-04-16T19:35:13.071040Z",
          "iopub.status.idle": "2021-04-16T19:35:13.073278Z",
          "shell.execute_reply": "2021-04-16T19:35:13.072869Z"
        },
        "id": "x6KYBUNkQg9k"
      },
      "outputs": [],
      "source": [
        "from empiricaldist import Pmf"
      ]
    },
    {
      "cell_type": "markdown",
      "metadata": {
        "tags": [],
        "id": "Qd4xWNzIQg9l"
      },
      "source": [
        "If that doesn't work, you might have to install `empiricaldist`; try running\n",
        "\n",
        "```\n",
        "!pip install empiricaldist\n",
        "```\n",
        "\n",
        "in a code cell or\n",
        "\n",
        "```\n",
        "pip install empiricaldist\n",
        "```\n",
        "\n",
        "in a terminal window."
      ]
    },
    {
      "cell_type": "markdown",
      "metadata": {
        "id": "Zy7NOP2JQg9l"
      },
      "source": [
        "The following example makes a `Pmf` that represents the outcome of a\n",
        "coin toss."
      ]
    },
    {
      "cell_type": "code",
      "execution_count": 5,
      "metadata": {
        "execution": {
          "iopub.execute_input": "2021-04-16T19:35:13.085000Z",
          "iopub.status.busy": "2021-04-16T19:35:13.081870Z",
          "iopub.status.idle": "2021-04-16T19:35:13.088193Z",
          "shell.execute_reply": "2021-04-16T19:35:13.087667Z"
        },
        "colab": {
          "base_uri": "https://localhost:8080/",
          "height": 164
        },
        "id": "15KKPtSSQg9l",
        "outputId": "cfc46782-07eb-4594-bcc5-6cc283e0cce1"
      },
      "outputs": [
        {
          "output_type": "execute_result",
          "data": {
            "text/plain": [
              "heads    0.5\n",
              "tails    0.5\n",
              "dtype: float64"
            ],
            "text/html": [
              "<div>\n",
              "<style scoped>\n",
              "    .dataframe tbody tr th:only-of-type {\n",
              "        vertical-align: middle;\n",
              "    }\n",
              "\n",
              "    .dataframe tbody tr th {\n",
              "        vertical-align: top;\n",
              "    }\n",
              "\n",
              "    .dataframe thead th {\n",
              "        text-align: right;\n",
              "    }\n",
              "</style>\n",
              "<table border=\"1\" class=\"dataframe\">\n",
              "  <thead>\n",
              "    <tr style=\"text-align: right;\">\n",
              "      <th></th>\n",
              "      <th>0</th>\n",
              "    </tr>\n",
              "  </thead>\n",
              "  <tbody>\n",
              "    <tr>\n",
              "      <th>heads</th>\n",
              "      <td>0.5</td>\n",
              "    </tr>\n",
              "    <tr>\n",
              "      <th>tails</th>\n",
              "      <td>0.5</td>\n",
              "    </tr>\n",
              "  </tbody>\n",
              "</table>\n",
              "</div><br><label><b>dtype:</b> float64</label>"
            ]
          },
          "metadata": {},
          "execution_count": 5
        }
      ],
      "source": [
        "coin = Pmf()\n",
        "coin['heads'] = 1/2\n",
        "coin['tails'] = 1/2\n",
        "coin"
      ]
    },
    {
      "cell_type": "markdown",
      "metadata": {
        "id": "4zk4BnuOQg9l"
      },
      "source": [
        "`Pmf` creates an empty `Pmf` with no outcomes.\n",
        "Then we can add new outcomes using the bracket operator.\n",
        "In this example, the two outcomes are represented with strings, and they have the same probability, 0.5."
      ]
    },
    {
      "cell_type": "markdown",
      "metadata": {
        "id": "Gw7c-H3xQg9m"
      },
      "source": [
        "You can also make a `Pmf` from a sequence of possible outcomes.\n",
        "\n",
        "The following example uses `Pmf.from_seq` to make a `Pmf` that represents a six-sided die."
      ]
    },
    {
      "cell_type": "code",
      "execution_count": 6,
      "metadata": {
        "execution": {
          "iopub.execute_input": "2021-04-16T19:35:13.092152Z",
          "iopub.status.busy": "2021-04-16T19:35:13.091700Z",
          "iopub.status.idle": "2021-04-16T19:35:13.101915Z",
          "shell.execute_reply": "2021-04-16T19:35:13.102297Z"
        },
        "colab": {
          "base_uri": "https://localhost:8080/",
          "height": 271
        },
        "id": "SLBQlSbbQg9m",
        "outputId": "f4de6a92-25aa-46e7-978a-e1997695c69d"
      },
      "outputs": [
        {
          "output_type": "execute_result",
          "data": {
            "text/plain": [
              "1    0.166667\n",
              "2    0.166667\n",
              "3    0.166667\n",
              "4    0.166667\n",
              "5    0.166667\n",
              "6    0.166667\n",
              "Name: , dtype: float64"
            ],
            "text/html": [
              "<div>\n",
              "<style scoped>\n",
              "    .dataframe tbody tr th:only-of-type {\n",
              "        vertical-align: middle;\n",
              "    }\n",
              "\n",
              "    .dataframe tbody tr th {\n",
              "        vertical-align: top;\n",
              "    }\n",
              "\n",
              "    .dataframe thead th {\n",
              "        text-align: right;\n",
              "    }\n",
              "</style>\n",
              "<table border=\"1\" class=\"dataframe\">\n",
              "  <thead>\n",
              "    <tr style=\"text-align: right;\">\n",
              "      <th></th>\n",
              "      <th></th>\n",
              "    </tr>\n",
              "  </thead>\n",
              "  <tbody>\n",
              "    <tr>\n",
              "      <th>1</th>\n",
              "      <td>0.166667</td>\n",
              "    </tr>\n",
              "    <tr>\n",
              "      <th>2</th>\n",
              "      <td>0.166667</td>\n",
              "    </tr>\n",
              "    <tr>\n",
              "      <th>3</th>\n",
              "      <td>0.166667</td>\n",
              "    </tr>\n",
              "    <tr>\n",
              "      <th>4</th>\n",
              "      <td>0.166667</td>\n",
              "    </tr>\n",
              "    <tr>\n",
              "      <th>5</th>\n",
              "      <td>0.166667</td>\n",
              "    </tr>\n",
              "    <tr>\n",
              "      <th>6</th>\n",
              "      <td>0.166667</td>\n",
              "    </tr>\n",
              "  </tbody>\n",
              "</table>\n",
              "</div><br><label><b>dtype:</b> float64</label>"
            ]
          },
          "metadata": {},
          "execution_count": 6
        }
      ],
      "source": [
        "die = Pmf.from_seq([1,2,3,4,5,6])\n",
        "die"
      ]
    },
    {
      "cell_type": "code",
      "source": [
        "two_die = Pmf.from_seq([2,3,4,5,6,7,3,4,5,6,7,8,4,5,6,7,8,9,5,6,7,8,9,10, 6,7,8,9,10,11,7,8,9,10,11,12])\n",
        "two_die"
      ],
      "metadata": {
        "colab": {
          "base_uri": "https://localhost:8080/",
          "height": 424
        },
        "id": "sJbsq15mR9jL",
        "outputId": "d4685ca7-41a3-46b3-e884-af3e5b553d21"
      },
      "execution_count": 7,
      "outputs": [
        {
          "output_type": "execute_result",
          "data": {
            "text/plain": [
              "2     0.027778\n",
              "3     0.055556\n",
              "4     0.083333\n",
              "5     0.111111\n",
              "6     0.138889\n",
              "7     0.166667\n",
              "8     0.138889\n",
              "9     0.111111\n",
              "10    0.083333\n",
              "11    0.055556\n",
              "12    0.027778\n",
              "Name: , dtype: float64"
            ],
            "text/html": [
              "<div>\n",
              "<style scoped>\n",
              "    .dataframe tbody tr th:only-of-type {\n",
              "        vertical-align: middle;\n",
              "    }\n",
              "\n",
              "    .dataframe tbody tr th {\n",
              "        vertical-align: top;\n",
              "    }\n",
              "\n",
              "    .dataframe thead th {\n",
              "        text-align: right;\n",
              "    }\n",
              "</style>\n",
              "<table border=\"1\" class=\"dataframe\">\n",
              "  <thead>\n",
              "    <tr style=\"text-align: right;\">\n",
              "      <th></th>\n",
              "      <th></th>\n",
              "    </tr>\n",
              "  </thead>\n",
              "  <tbody>\n",
              "    <tr>\n",
              "      <th>2</th>\n",
              "      <td>0.027778</td>\n",
              "    </tr>\n",
              "    <tr>\n",
              "      <th>3</th>\n",
              "      <td>0.055556</td>\n",
              "    </tr>\n",
              "    <tr>\n",
              "      <th>4</th>\n",
              "      <td>0.083333</td>\n",
              "    </tr>\n",
              "    <tr>\n",
              "      <th>5</th>\n",
              "      <td>0.111111</td>\n",
              "    </tr>\n",
              "    <tr>\n",
              "      <th>6</th>\n",
              "      <td>0.138889</td>\n",
              "    </tr>\n",
              "    <tr>\n",
              "      <th>7</th>\n",
              "      <td>0.166667</td>\n",
              "    </tr>\n",
              "    <tr>\n",
              "      <th>8</th>\n",
              "      <td>0.138889</td>\n",
              "    </tr>\n",
              "    <tr>\n",
              "      <th>9</th>\n",
              "      <td>0.111111</td>\n",
              "    </tr>\n",
              "    <tr>\n",
              "      <th>10</th>\n",
              "      <td>0.083333</td>\n",
              "    </tr>\n",
              "    <tr>\n",
              "      <th>11</th>\n",
              "      <td>0.055556</td>\n",
              "    </tr>\n",
              "    <tr>\n",
              "      <th>12</th>\n",
              "      <td>0.027778</td>\n",
              "    </tr>\n",
              "  </tbody>\n",
              "</table>\n",
              "</div><br><label><b>dtype:</b> float64</label>"
            ]
          },
          "metadata": {},
          "execution_count": 7
        }
      ]
    },
    {
      "cell_type": "markdown",
      "metadata": {
        "id": "m3LxEJaLQg9m"
      },
      "source": [
        "In this example, all outcomes in the sequence appear once, so they all have the same probability, $1/6$.\n",
        "\n",
        "More generally, outcomes can appear more than once, as in the following example:"
      ]
    },
    {
      "cell_type": "code",
      "execution_count": 8,
      "metadata": {
        "execution": {
          "iopub.execute_input": "2021-04-16T19:35:13.109370Z",
          "iopub.status.busy": "2021-04-16T19:35:13.108697Z",
          "iopub.status.idle": "2021-04-16T19:35:13.111096Z",
          "shell.execute_reply": "2021-04-16T19:35:13.111446Z"
        },
        "colab": {
          "base_uri": "https://localhost:8080/",
          "height": 209
        },
        "id": "26mV4lHZQg9m",
        "outputId": "2df18486-8059-4320-f1a5-abd32957c18a"
      },
      "outputs": [
        {
          "output_type": "execute_result",
          "data": {
            "text/plain": [
              "M    0.090909\n",
              "i    0.363636\n",
              "p    0.181818\n",
              "s    0.363636\n",
              "Name: , dtype: float64"
            ],
            "text/html": [
              "<div>\n",
              "<style scoped>\n",
              "    .dataframe tbody tr th:only-of-type {\n",
              "        vertical-align: middle;\n",
              "    }\n",
              "\n",
              "    .dataframe tbody tr th {\n",
              "        vertical-align: top;\n",
              "    }\n",
              "\n",
              "    .dataframe thead th {\n",
              "        text-align: right;\n",
              "    }\n",
              "</style>\n",
              "<table border=\"1\" class=\"dataframe\">\n",
              "  <thead>\n",
              "    <tr style=\"text-align: right;\">\n",
              "      <th></th>\n",
              "      <th></th>\n",
              "    </tr>\n",
              "  </thead>\n",
              "  <tbody>\n",
              "    <tr>\n",
              "      <th>M</th>\n",
              "      <td>0.090909</td>\n",
              "    </tr>\n",
              "    <tr>\n",
              "      <th>i</th>\n",
              "      <td>0.363636</td>\n",
              "    </tr>\n",
              "    <tr>\n",
              "      <th>p</th>\n",
              "      <td>0.181818</td>\n",
              "    </tr>\n",
              "    <tr>\n",
              "      <th>s</th>\n",
              "      <td>0.363636</td>\n",
              "    </tr>\n",
              "  </tbody>\n",
              "</table>\n",
              "</div><br><label><b>dtype:</b> float64</label>"
            ]
          },
          "metadata": {},
          "execution_count": 8
        }
      ],
      "source": [
        "letters = Pmf.from_seq(list('Mississippi'))\n",
        "letters"
      ]
    },
    {
      "cell_type": "markdown",
      "metadata": {
        "id": "EVwyIIpnQg9n"
      },
      "source": [
        "The letter `M` appears once out of 11 characters, so its probability is $1/11$.\n",
        "The letter `i` appears 4 times, so its probability is $4/11$.\n",
        "\n",
        "Since the letters in a string are not outcomes of a random process, I'll use the more general term \"quantities\" for the letters in the `Pmf`.\n",
        "\n",
        "The `Pmf` class inherits from a Pandas `Series`, so anything you can do with a `Series`, you can also do with a `Pmf`.\n",
        "\n",
        "For example, you can use the bracket operator to look up a quantity and get the corresponding probability."
      ]
    },
    {
      "cell_type": "code",
      "execution_count": 9,
      "metadata": {
        "execution": {
          "iopub.execute_input": "2021-04-16T19:35:13.116296Z",
          "iopub.status.busy": "2021-04-16T19:35:13.115451Z",
          "iopub.status.idle": "2021-04-16T19:35:13.118339Z",
          "shell.execute_reply": "2021-04-16T19:35:13.118724Z"
        },
        "colab": {
          "base_uri": "https://localhost:8080/"
        },
        "id": "0EH79XW1Qg9n",
        "outputId": "ba5108e5-fb1e-4fc3-e888-6b9f654d7e14"
      },
      "outputs": [
        {
          "output_type": "execute_result",
          "data": {
            "text/plain": [
              "np.float64(0.36363636363636365)"
            ]
          },
          "metadata": {},
          "execution_count": 9
        }
      ],
      "source": [
        "letters['s']"
      ]
    },
    {
      "cell_type": "markdown",
      "metadata": {
        "id": "jab-0V7pQg9n"
      },
      "source": [
        "In the word \"Mississippi\", about 36% of the letters are \"s\".\n",
        "\n",
        "However, if you ask for the probability of a quantity that's not in the distribution, you get a `KeyError`.\n",
        "\n"
      ]
    },
    {
      "cell_type": "code",
      "execution_count": 10,
      "metadata": {
        "execution": {
          "iopub.execute_input": "2021-04-16T19:35:13.122337Z",
          "iopub.status.busy": "2021-04-16T19:35:13.121841Z",
          "iopub.status.idle": "2021-04-16T19:35:13.124479Z",
          "shell.execute_reply": "2021-04-16T19:35:13.124086Z"
        },
        "tags": [],
        "colab": {
          "base_uri": "https://localhost:8080/"
        },
        "id": "yH99eV12Qg9n",
        "outputId": "7102bf25-2921-4a1c-9662-76345f12cb0c"
      },
      "outputs": [
        {
          "output_type": "stream",
          "name": "stdout",
          "text": [
            "<class 'KeyError'>\n"
          ]
        }
      ],
      "source": [
        "try:\n",
        "    letters['t']\n",
        "except KeyError as e:\n",
        "    print(type(e))"
      ]
    },
    {
      "cell_type": "markdown",
      "metadata": {
        "id": "Ji5CJFHAQg9o"
      },
      "source": [
        "You can also call a `Pmf` as if it were a function, with a letter in parentheses."
      ]
    },
    {
      "cell_type": "code",
      "execution_count": 11,
      "metadata": {
        "execution": {
          "iopub.execute_input": "2021-04-16T19:35:13.128416Z",
          "iopub.status.busy": "2021-04-16T19:35:13.127840Z",
          "iopub.status.idle": "2021-04-16T19:35:13.130899Z",
          "shell.execute_reply": "2021-04-16T19:35:13.130488Z"
        },
        "colab": {
          "base_uri": "https://localhost:8080/"
        },
        "id": "8AUZScqCQg9o",
        "outputId": "ebe80973-caed-43b1-a358-9278e9ccd6a5"
      },
      "outputs": [
        {
          "output_type": "execute_result",
          "data": {
            "text/plain": [
              "np.float64(0.36363636363636365)"
            ]
          },
          "metadata": {},
          "execution_count": 11
        }
      ],
      "source": [
        "letters('s')"
      ]
    },
    {
      "cell_type": "markdown",
      "metadata": {
        "id": "n-_tXm5AQg9o"
      },
      "source": [
        "If the quantity is in the distribution the results are the same.\n",
        "But if it is not in the distribution, the result is `0`, not an error."
      ]
    },
    {
      "cell_type": "code",
      "execution_count": 12,
      "metadata": {
        "execution": {
          "iopub.execute_input": "2021-04-16T19:35:13.134469Z",
          "iopub.status.busy": "2021-04-16T19:35:13.133893Z",
          "iopub.status.idle": "2021-04-16T19:35:13.136395Z",
          "shell.execute_reply": "2021-04-16T19:35:13.136752Z"
        },
        "colab": {
          "base_uri": "https://localhost:8080/"
        },
        "id": "356NHG2eQg9o",
        "outputId": "968b2a75-92e1-4319-df55-973b6dd7dd27"
      },
      "outputs": [
        {
          "output_type": "execute_result",
          "data": {
            "text/plain": [
              "0"
            ]
          },
          "metadata": {},
          "execution_count": 12
        }
      ],
      "source": [
        "letters('t')"
      ]
    },
    {
      "cell_type": "markdown",
      "metadata": {
        "id": "6F2WQdhQQg9p"
      },
      "source": [
        "With parentheses, you can also provide a sequence of quantities and get a sequence of probabilities."
      ]
    },
    {
      "cell_type": "code",
      "execution_count": 13,
      "metadata": {
        "execution": {
          "iopub.execute_input": "2021-04-16T19:35:13.140773Z",
          "iopub.status.busy": "2021-04-16T19:35:13.140250Z",
          "iopub.status.idle": "2021-04-16T19:35:13.142982Z",
          "shell.execute_reply": "2021-04-16T19:35:13.142616Z"
        },
        "colab": {
          "base_uri": "https://localhost:8080/"
        },
        "id": "Ci-gHF2_Qg9p",
        "outputId": "91cf6d88-8a65-4b7c-d095-888c043720e6"
      },
      "outputs": [
        {
          "output_type": "execute_result",
          "data": {
            "text/plain": [
              "array([0.16666667, 0.16666667, 0.        ])"
            ]
          },
          "metadata": {},
          "execution_count": 13
        }
      ],
      "source": [
        "die([1,4,7])"
      ]
    },
    {
      "cell_type": "markdown",
      "metadata": {
        "id": "6ddemRgQQg9p"
      },
      "source": [
        "The quantities in a `Pmf` can be strings, numbers, or any other type that can be stored in the index of a Pandas `Series`.\n",
        "If you are familiar with Pandas, that will help you work with `Pmf` objects.\n",
        "But I will explain what you need to know as we go along."
      ]
    },
    {
      "cell_type": "markdown",
      "metadata": {
        "id": "aofKJS6ZQg9p"
      },
      "source": [
        "## The Cookie Problem Revisited\n",
        "\n",
        "In this section I'll use a `Pmf` to solve the cookie problem from <<_TheCookieProblem>>.\n",
        "Here's the statement of the problem again:\n",
        "\n",
        "> Suppose there are two bowls of cookies.\n",
        ">\n",
        "> * Bowl 1 contains 30 vanilla cookies and 10 chocolate cookies.\n",
        ">\n",
        "> * Bowl 2 contains 20 vanilla cookies and 20 chocolate cookies.\n",
        ">\n",
        "> Now suppose you choose one of the bowls at random and, without looking, choose a cookie at random. If the cookie is vanilla, what is the probability that it came from Bowl 1?\n",
        "\n",
        "Here's a `Pmf` that represents the two hypotheses and their prior probabilities:"
      ]
    },
    {
      "cell_type": "code",
      "execution_count": 14,
      "metadata": {
        "execution": {
          "iopub.execute_input": "2021-04-16T19:35:13.149760Z",
          "iopub.status.busy": "2021-04-16T19:35:13.149078Z",
          "iopub.status.idle": "2021-04-16T19:35:13.152305Z",
          "shell.execute_reply": "2021-04-16T19:35:13.151707Z"
        },
        "colab": {
          "base_uri": "https://localhost:8080/",
          "height": 148
        },
        "id": "76iyjbEuQg9p",
        "outputId": "bef7e33d-4b09-4abe-fc56-a9fd2d980116"
      },
      "outputs": [
        {
          "output_type": "execute_result",
          "data": {
            "text/plain": [
              "Bowl 1    0.5\n",
              "Bowl 2    0.5\n",
              "Name: , dtype: float64"
            ],
            "text/html": [
              "<div>\n",
              "<style scoped>\n",
              "    .dataframe tbody tr th:only-of-type {\n",
              "        vertical-align: middle;\n",
              "    }\n",
              "\n",
              "    .dataframe tbody tr th {\n",
              "        vertical-align: top;\n",
              "    }\n",
              "\n",
              "    .dataframe thead th {\n",
              "        text-align: right;\n",
              "    }\n",
              "</style>\n",
              "<table border=\"1\" class=\"dataframe\">\n",
              "  <thead>\n",
              "    <tr style=\"text-align: right;\">\n",
              "      <th></th>\n",
              "      <th></th>\n",
              "    </tr>\n",
              "  </thead>\n",
              "  <tbody>\n",
              "    <tr>\n",
              "      <th>Bowl 1</th>\n",
              "      <td>0.5</td>\n",
              "    </tr>\n",
              "    <tr>\n",
              "      <th>Bowl 2</th>\n",
              "      <td>0.5</td>\n",
              "    </tr>\n",
              "  </tbody>\n",
              "</table>\n",
              "</div><br><label><b>dtype:</b> float64</label>"
            ]
          },
          "metadata": {},
          "execution_count": 14
        }
      ],
      "source": [
        "prior = Pmf.from_seq(['Bowl 1', 'Bowl 2'])\n",
        "prior"
      ]
    },
    {
      "cell_type": "markdown",
      "metadata": {
        "id": "jH2B_o8mQg9q"
      },
      "source": [
        "This distribution, which contains the prior probability for each hypothesis, is called (wait for it) the **prior distribution**.\n",
        "\n",
        "To update the distribution based on new data (the vanilla cookie),\n",
        "we multiply the priors by the likelihoods. The likelihood\n",
        "of drawing a vanilla cookie from Bowl 1 is `3/4`. The likelihood\n",
        "for Bowl 2 is `1/2`."
      ]
    },
    {
      "cell_type": "code",
      "execution_count": 15,
      "metadata": {
        "execution": {
          "iopub.execute_input": "2021-04-16T19:35:13.158260Z",
          "iopub.status.busy": "2021-04-16T19:35:13.157620Z",
          "iopub.status.idle": "2021-04-16T19:35:13.160416Z",
          "shell.execute_reply": "2021-04-16T19:35:13.160045Z"
        },
        "colab": {
          "base_uri": "https://localhost:8080/",
          "height": 148
        },
        "id": "6lhvKE8TQg9q",
        "outputId": "e96a2c5e-c5a4-44bd-facd-ec2938b09532"
      },
      "outputs": [
        {
          "output_type": "execute_result",
          "data": {
            "text/plain": [
              "Bowl 1    0.375\n",
              "Bowl 2    0.250\n",
              "Name: , dtype: float64"
            ],
            "text/html": [
              "<div>\n",
              "<style scoped>\n",
              "    .dataframe tbody tr th:only-of-type {\n",
              "        vertical-align: middle;\n",
              "    }\n",
              "\n",
              "    .dataframe tbody tr th {\n",
              "        vertical-align: top;\n",
              "    }\n",
              "\n",
              "    .dataframe thead th {\n",
              "        text-align: right;\n",
              "    }\n",
              "</style>\n",
              "<table border=\"1\" class=\"dataframe\">\n",
              "  <thead>\n",
              "    <tr style=\"text-align: right;\">\n",
              "      <th></th>\n",
              "      <th></th>\n",
              "    </tr>\n",
              "  </thead>\n",
              "  <tbody>\n",
              "    <tr>\n",
              "      <th>Bowl 1</th>\n",
              "      <td>0.375</td>\n",
              "    </tr>\n",
              "    <tr>\n",
              "      <th>Bowl 2</th>\n",
              "      <td>0.250</td>\n",
              "    </tr>\n",
              "  </tbody>\n",
              "</table>\n",
              "</div><br><label><b>dtype:</b> float64</label>"
            ]
          },
          "metadata": {},
          "execution_count": 15
        }
      ],
      "source": [
        "likelihood_vanilla = [0.75, 0.5]\n",
        "posterior = prior * likelihood_vanilla\n",
        "posterior"
      ]
    },
    {
      "cell_type": "markdown",
      "metadata": {
        "id": "bGlcw1xSQg9q"
      },
      "source": [
        "The result is the unnormalized posteriors; that is, they don't add up to 1.\n",
        "To make them add up to 1, we can use `normalize`, which is a method provided by `Pmf`."
      ]
    },
    {
      "cell_type": "code",
      "execution_count": 16,
      "metadata": {
        "execution": {
          "iopub.execute_input": "2021-04-16T19:35:13.164762Z",
          "iopub.status.busy": "2021-04-16T19:35:13.164137Z",
          "iopub.status.idle": "2021-04-16T19:35:13.167103Z",
          "shell.execute_reply": "2021-04-16T19:35:13.166662Z"
        },
        "colab": {
          "base_uri": "https://localhost:8080/"
        },
        "id": "IjfuH_k5Qg9r",
        "outputId": "e4bddd05-57ec-4963-858c-600db03c1f6f"
      },
      "outputs": [
        {
          "output_type": "execute_result",
          "data": {
            "text/plain": [
              "np.float64(0.625)"
            ]
          },
          "metadata": {},
          "execution_count": 16
        }
      ],
      "source": [
        "posterior.normalize()"
      ]
    },
    {
      "cell_type": "markdown",
      "metadata": {
        "id": "DPz0KNT2Qg9r"
      },
      "source": [
        "The return value from `normalize` is the total probability of the data, which is $5/8$.\n",
        "\n",
        "`posterior`, which contains the posterior probability for each hypothesis, is called (wait now) the **posterior distribution**."
      ]
    },
    {
      "cell_type": "code",
      "execution_count": 17,
      "metadata": {
        "execution": {
          "iopub.execute_input": "2021-04-16T19:35:13.172660Z",
          "iopub.status.busy": "2021-04-16T19:35:13.171984Z",
          "iopub.status.idle": "2021-04-16T19:35:13.174476Z",
          "shell.execute_reply": "2021-04-16T19:35:13.174842Z"
        },
        "colab": {
          "base_uri": "https://localhost:8080/",
          "height": 148
        },
        "id": "uEJyKszVQg9r",
        "outputId": "b676a8ba-7075-438b-91c9-47b952f14828"
      },
      "outputs": [
        {
          "output_type": "execute_result",
          "data": {
            "text/plain": [
              "Bowl 1    0.6\n",
              "Bowl 2    0.4\n",
              "Name: , dtype: float64"
            ],
            "text/html": [
              "<div>\n",
              "<style scoped>\n",
              "    .dataframe tbody tr th:only-of-type {\n",
              "        vertical-align: middle;\n",
              "    }\n",
              "\n",
              "    .dataframe tbody tr th {\n",
              "        vertical-align: top;\n",
              "    }\n",
              "\n",
              "    .dataframe thead th {\n",
              "        text-align: right;\n",
              "    }\n",
              "</style>\n",
              "<table border=\"1\" class=\"dataframe\">\n",
              "  <thead>\n",
              "    <tr style=\"text-align: right;\">\n",
              "      <th></th>\n",
              "      <th></th>\n",
              "    </tr>\n",
              "  </thead>\n",
              "  <tbody>\n",
              "    <tr>\n",
              "      <th>Bowl 1</th>\n",
              "      <td>0.6</td>\n",
              "    </tr>\n",
              "    <tr>\n",
              "      <th>Bowl 2</th>\n",
              "      <td>0.4</td>\n",
              "    </tr>\n",
              "  </tbody>\n",
              "</table>\n",
              "</div><br><label><b>dtype:</b> float64</label>"
            ]
          },
          "metadata": {},
          "execution_count": 17
        }
      ],
      "source": [
        "posterior"
      ]
    },
    {
      "cell_type": "markdown",
      "metadata": {
        "id": "XmJ6286zQg9r"
      },
      "source": [
        "From the posterior distribution we can select the posterior probability for Bowl 1:"
      ]
    },
    {
      "cell_type": "code",
      "execution_count": 18,
      "metadata": {
        "execution": {
          "iopub.execute_input": "2021-04-16T19:35:13.178618Z",
          "iopub.status.busy": "2021-04-16T19:35:13.177927Z",
          "iopub.status.idle": "2021-04-16T19:35:13.180255Z",
          "shell.execute_reply": "2021-04-16T19:35:13.180610Z"
        },
        "colab": {
          "base_uri": "https://localhost:8080/"
        },
        "id": "h7gIk2VFQg9s",
        "outputId": "77e1a881-839d-44cf-a3e9-c107dcb91eba"
      },
      "outputs": [
        {
          "output_type": "execute_result",
          "data": {
            "text/plain": [
              "np.float64(0.6)"
            ]
          },
          "metadata": {},
          "execution_count": 18
        }
      ],
      "source": [
        "posterior('Bowl 1')"
      ]
    },
    {
      "cell_type": "markdown",
      "metadata": {
        "id": "NcxYmx-8Qg9s"
      },
      "source": [
        "And the answer is 0.6.\n",
        "\n",
        "One benefit of using `Pmf` objects is that it is easy to do successive updates with more data.\n",
        "For example, suppose you put the first cookie back (so the contents of the bowls don't change) and draw again from the same bowl.\n",
        "If the second cookie is also vanilla, we can do a second update like this:"
      ]
    },
    {
      "cell_type": "code",
      "execution_count": 19,
      "metadata": {
        "execution": {
          "iopub.execute_input": "2021-04-16T19:35:13.187902Z",
          "iopub.status.busy": "2021-04-16T19:35:13.187276Z",
          "iopub.status.idle": "2021-04-16T19:35:13.189938Z",
          "shell.execute_reply": "2021-04-16T19:35:13.190290Z"
        },
        "colab": {
          "base_uri": "https://localhost:8080/",
          "height": 148
        },
        "id": "6ywcbynQQg9s",
        "outputId": "ff17f700-fcf1-4c71-b2b2-527a2a16d35f"
      },
      "outputs": [
        {
          "output_type": "execute_result",
          "data": {
            "text/plain": [
              "Bowl 1    0.692308\n",
              "Bowl 2    0.307692\n",
              "Name: , dtype: float64"
            ],
            "text/html": [
              "<div>\n",
              "<style scoped>\n",
              "    .dataframe tbody tr th:only-of-type {\n",
              "        vertical-align: middle;\n",
              "    }\n",
              "\n",
              "    .dataframe tbody tr th {\n",
              "        vertical-align: top;\n",
              "    }\n",
              "\n",
              "    .dataframe thead th {\n",
              "        text-align: right;\n",
              "    }\n",
              "</style>\n",
              "<table border=\"1\" class=\"dataframe\">\n",
              "  <thead>\n",
              "    <tr style=\"text-align: right;\">\n",
              "      <th></th>\n",
              "      <th></th>\n",
              "    </tr>\n",
              "  </thead>\n",
              "  <tbody>\n",
              "    <tr>\n",
              "      <th>Bowl 1</th>\n",
              "      <td>0.692308</td>\n",
              "    </tr>\n",
              "    <tr>\n",
              "      <th>Bowl 2</th>\n",
              "      <td>0.307692</td>\n",
              "    </tr>\n",
              "  </tbody>\n",
              "</table>\n",
              "</div><br><label><b>dtype:</b> float64</label>"
            ]
          },
          "metadata": {},
          "execution_count": 19
        }
      ],
      "source": [
        "posterior *= likelihood_vanilla\n",
        "posterior.normalize()\n",
        "posterior"
      ]
    },
    {
      "cell_type": "markdown",
      "metadata": {
        "id": "RSrcjbcGQg9s"
      },
      "source": [
        "Now the posterior probability for Bowl 1 is almost 70%.\n",
        "But suppose we do the same thing again and get a chocolate cookie.\n",
        "\n",
        "Here are the likelihoods for the new data:"
      ]
    },
    {
      "cell_type": "code",
      "execution_count": 20,
      "metadata": {
        "execution": {
          "iopub.execute_input": "2021-04-16T19:35:13.193226Z",
          "iopub.status.busy": "2021-04-16T19:35:13.192782Z",
          "iopub.status.idle": "2021-04-16T19:35:13.194564Z",
          "shell.execute_reply": "2021-04-16T19:35:13.194987Z"
        },
        "id": "8_2iBHXGQg9t"
      },
      "outputs": [],
      "source": [
        "likelihood_chocolate = [0.25, 0.5]"
      ]
    },
    {
      "cell_type": "markdown",
      "metadata": {
        "id": "zYwvEujGQg9t"
      },
      "source": [
        "And here's the update."
      ]
    },
    {
      "cell_type": "code",
      "execution_count": 21,
      "metadata": {
        "execution": {
          "iopub.execute_input": "2021-04-16T19:35:13.202639Z",
          "iopub.status.busy": "2021-04-16T19:35:13.202008Z",
          "iopub.status.idle": "2021-04-16T19:35:13.204858Z",
          "shell.execute_reply": "2021-04-16T19:35:13.205318Z"
        },
        "colab": {
          "base_uri": "https://localhost:8080/",
          "height": 148
        },
        "id": "I5oFWHKGQg9t",
        "outputId": "e5c10790-2d74-424a-82da-b0c1f78e2ea1"
      },
      "outputs": [
        {
          "output_type": "execute_result",
          "data": {
            "text/plain": [
              "Bowl 1    0.529412\n",
              "Bowl 2    0.470588\n",
              "Name: , dtype: float64"
            ],
            "text/html": [
              "<div>\n",
              "<style scoped>\n",
              "    .dataframe tbody tr th:only-of-type {\n",
              "        vertical-align: middle;\n",
              "    }\n",
              "\n",
              "    .dataframe tbody tr th {\n",
              "        vertical-align: top;\n",
              "    }\n",
              "\n",
              "    .dataframe thead th {\n",
              "        text-align: right;\n",
              "    }\n",
              "</style>\n",
              "<table border=\"1\" class=\"dataframe\">\n",
              "  <thead>\n",
              "    <tr style=\"text-align: right;\">\n",
              "      <th></th>\n",
              "      <th></th>\n",
              "    </tr>\n",
              "  </thead>\n",
              "  <tbody>\n",
              "    <tr>\n",
              "      <th>Bowl 1</th>\n",
              "      <td>0.529412</td>\n",
              "    </tr>\n",
              "    <tr>\n",
              "      <th>Bowl 2</th>\n",
              "      <td>0.470588</td>\n",
              "    </tr>\n",
              "  </tbody>\n",
              "</table>\n",
              "</div><br><label><b>dtype:</b> float64</label>"
            ]
          },
          "metadata": {},
          "execution_count": 21
        }
      ],
      "source": [
        "posterior *= likelihood_chocolate\n",
        "posterior.normalize()\n",
        "posterior"
      ]
    },
    {
      "cell_type": "markdown",
      "metadata": {
        "id": "5n5bnjqCQg9t"
      },
      "source": [
        "Now the posterior probability for Bowl 1 is about 53%.\n",
        "After two vanilla cookies and one chocolate, the posterior probabilities are close to 50/50."
      ]
    },
    {
      "cell_type": "markdown",
      "metadata": {
        "id": "qUKrsptLQg9u"
      },
      "source": [
        "## 101 Bowls\n",
        "\n",
        "Next let's solve a cookie problem with 101 bowls:\n",
        "\n",
        "* Bowl 0 contains 0% vanilla cookies,\n",
        "\n",
        "* Bowl 1 contains 1% vanilla cookies,\n",
        "\n",
        "* Bowl 2 contains 2% vanilla cookies,\n",
        "\n",
        "and so on, up to\n",
        "\n",
        "* Bowl 99 contains 99% vanilla cookies, and\n",
        "\n",
        "* Bowl 100 contains all vanilla cookies.\n",
        "\n",
        "As in the previous version, there are only two kinds of cookies, vanilla and chocolate.  So Bowl 0 is all chocolate cookies, Bowl 1 is 99% chocolate, and so on.\n",
        "\n",
        "Suppose we choose a bowl at random, choose a cookie at random, and it turns out to be vanilla.  What is the probability that the cookie came from Bowl $x$, for each value of $x$?\n",
        "\n",
        "To solve this problem, I'll use `np.arange` to make an array that represents 101 hypotheses, numbered from 0 to 100."
      ]
    },
    {
      "cell_type": "code",
      "execution_count": 22,
      "metadata": {
        "execution": {
          "iopub.execute_input": "2021-04-16T19:35:13.209286Z",
          "iopub.status.busy": "2021-04-16T19:35:13.208453Z",
          "iopub.status.idle": "2021-04-16T19:35:13.210850Z",
          "shell.execute_reply": "2021-04-16T19:35:13.211365Z"
        },
        "id": "yscOyAE_Qg9u"
      },
      "outputs": [],
      "source": [
        "import numpy as np\n",
        "\n",
        "hypos = np.arange(101)"
      ]
    },
    {
      "cell_type": "code",
      "source": [
        "hypos"
      ],
      "metadata": {
        "id": "yz2YF_C4WeXx",
        "outputId": "ffea5087-0f27-43df-d391-c15a5a39c8c1",
        "colab": {
          "base_uri": "https://localhost:8080/"
        }
      },
      "execution_count": 23,
      "outputs": [
        {
          "output_type": "execute_result",
          "data": {
            "text/plain": [
              "array([  0,   1,   2,   3,   4,   5,   6,   7,   8,   9,  10,  11,  12,\n",
              "        13,  14,  15,  16,  17,  18,  19,  20,  21,  22,  23,  24,  25,\n",
              "        26,  27,  28,  29,  30,  31,  32,  33,  34,  35,  36,  37,  38,\n",
              "        39,  40,  41,  42,  43,  44,  45,  46,  47,  48,  49,  50,  51,\n",
              "        52,  53,  54,  55,  56,  57,  58,  59,  60,  61,  62,  63,  64,\n",
              "        65,  66,  67,  68,  69,  70,  71,  72,  73,  74,  75,  76,  77,\n",
              "        78,  79,  80,  81,  82,  83,  84,  85,  86,  87,  88,  89,  90,\n",
              "        91,  92,  93,  94,  95,  96,  97,  98,  99, 100])"
            ]
          },
          "metadata": {},
          "execution_count": 23
        }
      ]
    },
    {
      "cell_type": "code",
      "source": [],
      "metadata": {
        "id": "81cSGf4vWlPW"
      },
      "execution_count": null,
      "outputs": []
    },
    {
      "cell_type": "markdown",
      "metadata": {
        "id": "5yimX17tQg9u"
      },
      "source": [
        "We can use this array to make the prior distribution:"
      ]
    },
    {
      "cell_type": "code",
      "execution_count": 24,
      "metadata": {
        "execution": {
          "iopub.execute_input": "2021-04-16T19:35:13.217907Z",
          "iopub.status.busy": "2021-04-16T19:35:13.217166Z",
          "iopub.status.idle": "2021-04-16T19:35:13.220630Z",
          "shell.execute_reply": "2021-04-16T19:35:13.219991Z"
        },
        "id": "qPArZPVRQg9u"
      },
      "outputs": [],
      "source": [
        "prior = Pmf(1, hypos)"
      ]
    },
    {
      "cell_type": "code",
      "source": [
        "prior"
      ],
      "metadata": {
        "id": "R9jrwhYtWq2e",
        "outputId": "e9712f61-3680-4732-86d0-fd3fa1d144ab",
        "colab": {
          "base_uri": "https://localhost:8080/",
          "height": 470
        }
      },
      "execution_count": 25,
      "outputs": [
        {
          "output_type": "execute_result",
          "data": {
            "text/plain": [
              "0      1\n",
              "1      1\n",
              "2      1\n",
              "3      1\n",
              "4      1\n",
              "      ..\n",
              "96     1\n",
              "97     1\n",
              "98     1\n",
              "99     1\n",
              "100    1\n",
              "Length: 101, dtype: int64"
            ],
            "text/html": [
              "<div>\n",
              "<style scoped>\n",
              "    .dataframe tbody tr th:only-of-type {\n",
              "        vertical-align: middle;\n",
              "    }\n",
              "\n",
              "    .dataframe tbody tr th {\n",
              "        vertical-align: top;\n",
              "    }\n",
              "\n",
              "    .dataframe thead th {\n",
              "        text-align: right;\n",
              "    }\n",
              "</style>\n",
              "<table border=\"1\" class=\"dataframe\">\n",
              "  <thead>\n",
              "    <tr style=\"text-align: right;\">\n",
              "      <th></th>\n",
              "      <th>0</th>\n",
              "    </tr>\n",
              "  </thead>\n",
              "  <tbody>\n",
              "    <tr>\n",
              "      <th>0</th>\n",
              "      <td>1</td>\n",
              "    </tr>\n",
              "    <tr>\n",
              "      <th>1</th>\n",
              "      <td>1</td>\n",
              "    </tr>\n",
              "    <tr>\n",
              "      <th>2</th>\n",
              "      <td>1</td>\n",
              "    </tr>\n",
              "    <tr>\n",
              "      <th>3</th>\n",
              "      <td>1</td>\n",
              "    </tr>\n",
              "    <tr>\n",
              "      <th>4</th>\n",
              "      <td>1</td>\n",
              "    </tr>\n",
              "    <tr>\n",
              "      <th>...</th>\n",
              "      <td>...</td>\n",
              "    </tr>\n",
              "    <tr>\n",
              "      <th>96</th>\n",
              "      <td>1</td>\n",
              "    </tr>\n",
              "    <tr>\n",
              "      <th>97</th>\n",
              "      <td>1</td>\n",
              "    </tr>\n",
              "    <tr>\n",
              "      <th>98</th>\n",
              "      <td>1</td>\n",
              "    </tr>\n",
              "    <tr>\n",
              "      <th>99</th>\n",
              "      <td>1</td>\n",
              "    </tr>\n",
              "    <tr>\n",
              "      <th>100</th>\n",
              "      <td>1</td>\n",
              "    </tr>\n",
              "  </tbody>\n",
              "</table>\n",
              "<p>101 rows × 1 columns</p>\n",
              "</div><br><label><b>dtype:</b> int64</label>"
            ]
          },
          "metadata": {},
          "execution_count": 25
        }
      ]
    },
    {
      "cell_type": "code",
      "source": [
        "prior.normalize()"
      ],
      "metadata": {
        "id": "JGuthMTQWmaY",
        "outputId": "812ae192-88a6-41c4-e160-d8fa6c7f912a",
        "colab": {
          "base_uri": "https://localhost:8080/"
        }
      },
      "execution_count": 26,
      "outputs": [
        {
          "output_type": "execute_result",
          "data": {
            "text/plain": [
              "np.int64(101)"
            ]
          },
          "metadata": {},
          "execution_count": 26
        }
      ]
    },
    {
      "cell_type": "markdown",
      "metadata": {
        "id": "JXYnXZGOQg9v"
      },
      "source": [
        "As this example shows, we can initialize a `Pmf` with two parameters.\n",
        "The first parameter is the prior probability; the second parameter is a sequence of quantities.\n",
        "\n",
        "In this example, the probabilities are all the same, so we only have to provide one of them; it gets \"broadcast\" across the hypotheses.\n",
        "Since all hypotheses have the same prior probability, this distribution is **uniform**.\n",
        "\n",
        "Here are the first few hypotheses and their probabilities."
      ]
    },
    {
      "cell_type": "code",
      "execution_count": 28,
      "metadata": {
        "execution": {
          "iopub.execute_input": "2021-04-16T19:35:13.228558Z",
          "iopub.status.busy": "2021-04-16T19:35:13.227628Z",
          "iopub.status.idle": "2021-04-16T19:35:13.232003Z",
          "shell.execute_reply": "2021-04-16T19:35:13.231443Z"
        },
        "colab": {
          "base_uri": "https://localhost:8080/",
          "height": 195
        },
        "id": "BmFKJ_jtQg9v",
        "outputId": "b4e7abf4-404e-4437-9bfc-b65ae916200d"
      },
      "outputs": [
        {
          "output_type": "execute_result",
          "data": {
            "text/plain": [
              "0    0.009901\n",
              "1    0.009901\n",
              "2    0.009901\n",
              "dtype: float64"
            ],
            "text/html": [
              "<div>\n",
              "<style scoped>\n",
              "    .dataframe tbody tr th:only-of-type {\n",
              "        vertical-align: middle;\n",
              "    }\n",
              "\n",
              "    .dataframe tbody tr th {\n",
              "        vertical-align: top;\n",
              "    }\n",
              "\n",
              "    .dataframe thead th {\n",
              "        text-align: right;\n",
              "    }\n",
              "</style>\n",
              "<table border=\"1\" class=\"dataframe\">\n",
              "  <thead>\n",
              "    <tr style=\"text-align: right;\">\n",
              "      <th></th>\n",
              "      <th>0</th>\n",
              "    </tr>\n",
              "  </thead>\n",
              "  <tbody>\n",
              "    <tr>\n",
              "      <th>0</th>\n",
              "      <td>0.009901</td>\n",
              "    </tr>\n",
              "    <tr>\n",
              "      <th>1</th>\n",
              "      <td>0.009901</td>\n",
              "    </tr>\n",
              "    <tr>\n",
              "      <th>2</th>\n",
              "      <td>0.009901</td>\n",
              "    </tr>\n",
              "  </tbody>\n",
              "</table>\n",
              "</div><br><label><b>dtype:</b> float64</label>"
            ]
          },
          "metadata": {},
          "execution_count": 28
        }
      ],
      "source": [
        "prior.head()"
      ]
    },
    {
      "cell_type": "code",
      "source": [
        "hypos"
      ],
      "metadata": {
        "id": "HfVQzTjcXvW9",
        "outputId": "b8f13eb8-a334-4805-8793-9333fa66538a",
        "colab": {
          "base_uri": "https://localhost:8080/"
        }
      },
      "execution_count": 29,
      "outputs": [
        {
          "output_type": "execute_result",
          "data": {
            "text/plain": [
              "array([  0,   1,   2,   3,   4,   5,   6,   7,   8,   9,  10,  11,  12,\n",
              "        13,  14,  15,  16,  17,  18,  19,  20,  21,  22,  23,  24,  25,\n",
              "        26,  27,  28,  29,  30,  31,  32,  33,  34,  35,  36,  37,  38,\n",
              "        39,  40,  41,  42,  43,  44,  45,  46,  47,  48,  49,  50,  51,\n",
              "        52,  53,  54,  55,  56,  57,  58,  59,  60,  61,  62,  63,  64,\n",
              "        65,  66,  67,  68,  69,  70,  71,  72,  73,  74,  75,  76,  77,\n",
              "        78,  79,  80,  81,  82,  83,  84,  85,  86,  87,  88,  89,  90,\n",
              "        91,  92,  93,  94,  95,  96,  97,  98,  99, 100])"
            ]
          },
          "metadata": {},
          "execution_count": 29
        }
      ]
    },
    {
      "cell_type": "markdown",
      "metadata": {
        "id": "X1x_hkEQQg9v"
      },
      "source": [
        "The likelihood of the data is the fraction of vanilla cookies in each bowl, which we can calculate using `hypos`:"
      ]
    },
    {
      "cell_type": "code",
      "execution_count": 30,
      "metadata": {
        "execution": {
          "iopub.execute_input": "2021-04-16T19:35:13.237433Z",
          "iopub.status.busy": "2021-04-16T19:35:13.236599Z",
          "iopub.status.idle": "2021-04-16T19:35:13.239986Z",
          "shell.execute_reply": "2021-04-16T19:35:13.240390Z"
        },
        "colab": {
          "base_uri": "https://localhost:8080/"
        },
        "id": "rAekzKvsQg9v",
        "outputId": "3579b161-b162-46f1-8fab-84f17ef0d78f"
      },
      "outputs": [
        {
          "output_type": "execute_result",
          "data": {
            "text/plain": [
              "array([0.  , 0.01, 0.02, 0.03, 0.04])"
            ]
          },
          "metadata": {},
          "execution_count": 30
        }
      ],
      "source": [
        "likelihood_vanilla = hypos/100\n",
        "likelihood_vanilla[:5]"
      ]
    },
    {
      "cell_type": "markdown",
      "metadata": {
        "id": "zWKaVIc5Qg9w"
      },
      "source": [
        "Now we can compute the posterior distribution in the usual way:\n"
      ]
    },
    {
      "cell_type": "code",
      "execution_count": 31,
      "metadata": {
        "execution": {
          "iopub.execute_input": "2021-04-16T19:35:13.247286Z",
          "iopub.status.busy": "2021-04-16T19:35:13.246696Z",
          "iopub.status.idle": "2021-04-16T19:35:13.249668Z",
          "shell.execute_reply": "2021-04-16T19:35:13.249258Z"
        },
        "id": "3wIgRb88Qg9w"
      },
      "outputs": [],
      "source": [
        "posterior1 = prior * likelihood_vanilla\n"
      ]
    },
    {
      "cell_type": "code",
      "source": [
        "posterior1.normalize()\n"
      ],
      "metadata": {
        "id": "LXuCqOaxX3hf",
        "outputId": "29873ebb-5bcd-42a5-b9cd-4409ae767e48",
        "colab": {
          "base_uri": "https://localhost:8080/"
        }
      },
      "execution_count": 32,
      "outputs": [
        {
          "output_type": "execute_result",
          "data": {
            "text/plain": [
              "np.float64(0.5000000000000001)"
            ]
          },
          "metadata": {},
          "execution_count": 32
        }
      ]
    },
    {
      "cell_type": "code",
      "source": [
        "posterior1.tail()"
      ],
      "metadata": {
        "id": "V5yRWkBtX3wV",
        "outputId": "a1ad9771-177f-4e13-f797-22788c9aecc9",
        "colab": {
          "base_uri": "https://localhost:8080/",
          "height": 195
        }
      },
      "execution_count": 36,
      "outputs": [
        {
          "output_type": "execute_result",
          "data": {
            "text/plain": [
              "98     0.019406\n",
              "99     0.019604\n",
              "100    0.019802\n",
              "dtype: float64"
            ],
            "text/html": [
              "<div>\n",
              "<style scoped>\n",
              "    .dataframe tbody tr th:only-of-type {\n",
              "        vertical-align: middle;\n",
              "    }\n",
              "\n",
              "    .dataframe tbody tr th {\n",
              "        vertical-align: top;\n",
              "    }\n",
              "\n",
              "    .dataframe thead th {\n",
              "        text-align: right;\n",
              "    }\n",
              "</style>\n",
              "<table border=\"1\" class=\"dataframe\">\n",
              "  <thead>\n",
              "    <tr style=\"text-align: right;\">\n",
              "      <th></th>\n",
              "      <th>0</th>\n",
              "    </tr>\n",
              "  </thead>\n",
              "  <tbody>\n",
              "    <tr>\n",
              "      <th>98</th>\n",
              "      <td>0.019406</td>\n",
              "    </tr>\n",
              "    <tr>\n",
              "      <th>99</th>\n",
              "      <td>0.019604</td>\n",
              "    </tr>\n",
              "    <tr>\n",
              "      <th>100</th>\n",
              "      <td>0.019802</td>\n",
              "    </tr>\n",
              "  </tbody>\n",
              "</table>\n",
              "</div><br><label><b>dtype:</b> float64</label>"
            ]
          },
          "metadata": {},
          "execution_count": 36
        }
      ]
    },
    {
      "cell_type": "markdown",
      "metadata": {
        "id": "AqMeiC60Qg9w"
      },
      "source": [
        "The following figure shows the prior distribution and the posterior distribution after one vanilla cookie."
      ]
    },
    {
      "cell_type": "code",
      "execution_count": 34,
      "metadata": {
        "execution": {
          "iopub.execute_input": "2021-04-16T19:35:13.253344Z",
          "iopub.status.busy": "2021-04-16T19:35:13.252850Z",
          "iopub.status.idle": "2021-04-16T19:35:13.254442Z",
          "shell.execute_reply": "2021-04-16T19:35:13.254791Z"
        },
        "tags": [],
        "id": "1y5MEtizQg9w"
      },
      "outputs": [],
      "source": [
        "from utils import decorate\n",
        "\n",
        "def decorate_bowls(title):\n",
        "    decorate(xlabel='Bowl #',\n",
        "             ylabel='PMF',\n",
        "             title=title)"
      ]
    },
    {
      "cell_type": "code",
      "execution_count": 35,
      "metadata": {
        "execution": {
          "iopub.execute_input": "2021-04-16T19:35:13.258248Z",
          "iopub.status.busy": "2021-04-16T19:35:13.257658Z",
          "iopub.status.idle": "2021-04-16T19:35:13.489195Z",
          "shell.execute_reply": "2021-04-16T19:35:13.488684Z"
        },
        "tags": [],
        "colab": {
          "base_uri": "https://localhost:8080/",
          "height": 508
        },
        "id": "Mwy1WC1sQg9x",
        "outputId": "4b414415-52da-42d3-b272-70cbd94acdeb"
      },
      "outputs": [
        {
          "output_type": "display_data",
          "data": {
            "text/plain": [
              "<Figure size 640x480 with 1 Axes>"
            ],
            "image/png": "[encoded data removed]"
          },
          "metadata": {}
        }
      ],
      "source": [
        "prior.plot(label='prior', color='C5')\n",
        "posterior1.plot(label='posterior', color='C4')\n",
        "decorate_bowls('Posterior after one vanilla cookie')"
      ]
    },
    {
      "cell_type": "markdown",
      "metadata": {
        "id": "cIXYOXzjQg9x"
      },
      "source": [
        "The posterior probability of Bowl 0 is 0 because it contains no vanilla cookies.\n",
        "The posterior probability of Bowl 100 is the highest because it contains the most vanilla cookies.\n",
        "In between, the shape of the posterior distribution is a line because the likelihoods are proportional to the bowl numbers.\n",
        "\n",
        "Now suppose we put the cookie back, draw again from the same bowl, and get another vanilla cookie.\n",
        "Here's the update after the second cookie:"
      ]
    },
    {
      "cell_type": "code",
      "execution_count": 44,
      "metadata": {
        "execution": {
          "iopub.execute_input": "2021-04-16T19:35:13.493905Z",
          "iopub.status.busy": "2021-04-16T19:35:13.493399Z",
          "iopub.status.idle": "2021-04-16T19:35:13.497012Z",
          "shell.execute_reply": "2021-04-16T19:35:13.497425Z"
        },
        "tags": [],
        "colab": {
          "base_uri": "https://localhost:8080/"
        },
        "id": "OSzLEKgcQg9x",
        "outputId": "28c3a0e3-dcfc-4473-d771-cd0910122a7b"
      },
      "outputs": [
        {
          "output_type": "execute_result",
          "data": {
            "text/plain": [
              "np.float64(0.6699999999999999)"
            ]
          },
          "metadata": {},
          "execution_count": 44
        }
      ],
      "source": [
        "posterior2 = posterior1 * likelihood_vanilla\n",
        "posterior2.normalize()"
      ]
    },
    {
      "cell_type": "markdown",
      "metadata": {
        "id": "ctKtCUJNQg9x"
      },
      "source": [
        "And here's what the posterior distribution looks like."
      ]
    },
    {
      "cell_type": "code",
      "execution_count": 45,
      "metadata": {
        "execution": {
          "iopub.execute_input": "2021-04-16T19:35:13.520648Z",
          "iopub.status.busy": "2021-04-16T19:35:13.513566Z",
          "iopub.status.idle": "2021-04-16T19:35:13.640728Z",
          "shell.execute_reply": "2021-04-16T19:35:13.640354Z"
        },
        "tags": [],
        "colab": {
          "base_uri": "https://localhost:8080/",
          "height": 508
        },
        "id": "HFpjITI3Qg9y",
        "outputId": "b1c19c5e-daf0-4544-9d52-f4911daa4c86"
      },
      "outputs": [
        {
          "output_type": "display_data",
          "data": {
            "text/plain": [
              "<Figure size 640x480 with 1 Axes>"
            ],
            "image/png": "[encoded data removed]"
          },
          "metadata": {}
        }
      ],
      "source": [
        "posterior2.plot(label='posterior', color='C4')\n",
        "decorate_bowls('Posterior after two vanilla cookies')"
      ]
    },
    {
      "cell_type": "code",
      "source": [
        "posterior3 = posterior2 * likelihood_vanilla\n",
        "posterior3.normalize()"
      ],
      "metadata": {
        "id": "9HqVId08Zao7",
        "outputId": "66ea0fb9-dd4e-45b7-ff3b-9362c0b106fd",
        "colab": {
          "base_uri": "https://localhost:8080/"
        }
      },
      "execution_count": 46,
      "outputs": [
        {
          "output_type": "execute_result",
          "data": {
            "text/plain": [
              "np.float64(0.753731343283582)"
            ]
          },
          "metadata": {},
          "execution_count": 46
        }
      ]
    },
    {
      "cell_type": "code",
      "source": [
        "posterior3.plot(label='posterior', color='C4')\n",
        "decorate_bowls('Posterior after three vanilla cookies')"
      ],
      "metadata": {
        "id": "23sooEw0ZatT",
        "outputId": "b5ecc77a-d324-4c19-cdf5-81f29f3722bc",
        "colab": {
          "base_uri": "https://localhost:8080/",
          "height": 508
        }
      },
      "execution_count": 47,
      "outputs": [
        {
          "output_type": "display_data",
          "data": {
            "text/plain": [
              "<Figure size 640x480 with 1 Axes>"
            ],
            "image/png": "[encoded data removed]"
          },
          "metadata": {}
        }
      ]
    },
    {
      "cell_type": "markdown",
      "metadata": {
        "id": "vrOQjPLMQg9y"
      },
      "source": [
        "After two vanilla cookies, the high-numbered bowls have the highest posterior probabilities because they contain the most vanilla cookies; the low-numbered bowls have the lowest probabilities.\n",
        "\n",
        "But suppose we draw again and get a chocolate cookie.\n",
        "Here's the update:"
      ]
    },
    {
      "cell_type": "code",
      "execution_count": 48,
      "metadata": {
        "execution": {
          "iopub.execute_input": "2021-04-16T19:35:13.645875Z",
          "iopub.status.busy": "2021-04-16T19:35:13.645126Z",
          "iopub.status.idle": "2021-04-16T19:35:13.650340Z",
          "shell.execute_reply": "2021-04-16T19:35:13.649962Z"
        },
        "tags": [],
        "colab": {
          "base_uri": "https://localhost:8080/"
        },
        "id": "2A4xuuoKQg9y",
        "outputId": "eeb194a1-efa6-4e86-a546-540af781d819"
      },
      "outputs": [
        {
          "output_type": "execute_result",
          "data": {
            "text/plain": [
              "np.float64(0.2462686567164179)"
            ]
          },
          "metadata": {},
          "execution_count": 48
        }
      ],
      "source": [
        "likelihood_chocolate = 1 - hypos/100\n",
        "\n",
        "posterior3 = posterior2 * likelihood_chocolate\n",
        "posterior3.normalize()"
      ]
    },
    {
      "cell_type": "markdown",
      "metadata": {
        "id": "ifH3oel3Qg9z"
      },
      "source": [
        "And here's the posterior distribution."
      ]
    },
    {
      "cell_type": "code",
      "execution_count": 49,
      "metadata": {
        "execution": {
          "iopub.execute_input": "2021-04-16T19:35:13.684232Z",
          "iopub.status.busy": "2021-04-16T19:35:13.671117Z",
          "iopub.status.idle": "2021-04-16T19:35:13.798448Z",
          "shell.execute_reply": "2021-04-16T19:35:13.797816Z"
        },
        "tags": [],
        "colab": {
          "base_uri": "https://localhost:8080/",
          "height": 508
        },
        "id": "P286RpysQg9z",
        "outputId": "6bf097bd-cd8a-4131-ec51-52116e0cc1dd"
      },
      "outputs": [
        {
          "output_type": "display_data",
          "data": {
            "text/plain": [
              "<Figure size 640x480 with 1 Axes>"
            ],
            "image/png": "[encoded data removed]"
          },
          "metadata": {}
        }
      ],
      "source": [
        "posterior3.plot(label='posterior', color='C4')\n",
        "decorate_bowls('Posterior after 2 vanilla, 1 chocolate')"
      ]
    },
    {
      "cell_type": "markdown",
      "metadata": {
        "id": "0qxPy9feQg9z"
      },
      "source": [
        "Now Bowl 100 has been eliminated because it contains no chocolate cookies.\n",
        "But the high-numbered bowls are still more likely than the low-numbered bowls, because we have seen more vanilla cookies than chocolate.\n",
        "\n",
        "In fact, the peak of the posterior distribution is at Bowl 67, which corresponds to the fraction of vanilla cookies in the data we've observed, $2/3$.\n",
        "\n",
        "The quantity with the highest posterior probability is called the **MAP**, which stands for \"maximum a posteriori probability\", where \"a posteriori\" is unnecessary Latin for \"posterior\".\n",
        "\n",
        "To compute the MAP, we can use the `Series` method `idxmax`:"
      ]
    },
    {
      "cell_type": "code",
      "execution_count": 50,
      "metadata": {
        "execution": {
          "iopub.execute_input": "2021-04-16T19:35:13.802724Z",
          "iopub.status.busy": "2021-04-16T19:35:13.802249Z",
          "iopub.status.idle": "2021-04-16T19:35:13.806979Z",
          "shell.execute_reply": "2021-04-16T19:35:13.806610Z"
        },
        "colab": {
          "base_uri": "https://localhost:8080/"
        },
        "id": "hDEDAWCGQg90",
        "outputId": "5ad3b9b7-2e8e-458d-cf4a-8ae3cc579b13"
      },
      "outputs": [
        {
          "output_type": "execute_result",
          "data": {
            "text/plain": [
              "np.int64(67)"
            ]
          },
          "metadata": {},
          "execution_count": 50
        }
      ],
      "source": [
        "posterior3.idxmax()"
      ]
    },
    {
      "cell_type": "markdown",
      "metadata": {
        "id": "z3NWDNaPQg90"
      },
      "source": [
        "Or `Pmf` provides a more memorable name for the same thing:"
      ]
    },
    {
      "cell_type": "code",
      "execution_count": 51,
      "metadata": {
        "execution": {
          "iopub.execute_input": "2021-04-16T19:35:13.811076Z",
          "iopub.status.busy": "2021-04-16T19:35:13.810496Z",
          "iopub.status.idle": "2021-04-16T19:35:13.815123Z",
          "shell.execute_reply": "2021-04-16T19:35:13.815492Z"
        },
        "colab": {
          "base_uri": "https://localhost:8080/"
        },
        "id": "4kglt2wcQg90",
        "outputId": "40ba2d61-0482-49c2-85f4-14483e75452d"
      },
      "outputs": [
        {
          "output_type": "execute_result",
          "data": {
            "text/plain": [
              "np.int64(67)"
            ]
          },
          "metadata": {},
          "execution_count": 51
        }
      ],
      "source": [
        "posterior3.max_prob()"
      ]
    },
    {
      "cell_type": "markdown",
      "metadata": {
        "id": "1RFQwxUcQg91"
      },
      "source": [
        "As you might suspect, this example isn't really about bowls; it's about estimating proportions.\n",
        "Imagine that you have one bowl of cookies.\n",
        "You don't know what fraction of cookies are vanilla, but you think it is equally likely to be any fraction from 0 to 1.\n",
        "If you draw three cookies and two are vanilla, what proportion of cookies in the bowl do you think are vanilla?\n",
        "The posterior distribution we just computed is the answer to that question.\n",
        "\n",
        "We'll come back to estimating proportions in the next chapter.\n",
        "But first let's use a `Pmf` to solve the dice problem."
      ]
    },
    {
      "cell_type": "markdown",
      "metadata": {
        "id": "MKq8f8kaQg91"
      },
      "source": [
        "## The Dice Problem\n",
        "\n",
        "In the previous chapter we solved the dice problem using a Bayes table.\n",
        "Here's the statement of the problem:\n",
        "\n",
        "> Suppose I have a box with a 6-sided die, an 8-sided die, and a 12-sided die.\n",
        "> I choose one of the dice at random, roll it, and report that the outcome is a 1.\n",
        "> What is the probability that I chose the 6-sided die?\n",
        "\n",
        "Let's solve it using a `Pmf`.\n",
        "I'll use integers to represent the hypotheses:"
      ]
    },
    {
      "cell_type": "code",
      "execution_count": 52,
      "metadata": {
        "execution": {
          "iopub.execute_input": "2021-04-16T19:35:13.818821Z",
          "iopub.status.busy": "2021-04-16T19:35:13.818241Z",
          "iopub.status.idle": "2021-04-16T19:35:13.820082Z",
          "shell.execute_reply": "2021-04-16T19:35:13.820472Z"
        },
        "id": "GX1pjKkPQg91"
      },
      "outputs": [],
      "source": [
        "hypos = [6, 8, 12]"
      ]
    },
    {
      "cell_type": "markdown",
      "metadata": {
        "id": "EnnKBQXZQg91"
      },
      "source": [
        "We can make the prior distribution like this:\n"
      ]
    },
    {
      "cell_type": "code",
      "execution_count": 53,
      "metadata": {
        "execution": {
          "iopub.execute_input": "2021-04-16T19:35:13.826805Z",
          "iopub.status.busy": "2021-04-16T19:35:13.826279Z",
          "iopub.status.idle": "2021-04-16T19:35:13.828958Z",
          "shell.execute_reply": "2021-04-16T19:35:13.828592Z"
        },
        "colab": {
          "base_uri": "https://localhost:8080/",
          "height": 195
        },
        "id": "RYq3mgElQg92",
        "outputId": "ac21af65-7b31-4ac7-a321-3087008a8eaa"
      },
      "outputs": [
        {
          "output_type": "execute_result",
          "data": {
            "text/plain": [
              "6     0.333333\n",
              "8     0.333333\n",
              "12    0.333333\n",
              "dtype: float64"
            ],
            "text/html": [
              "<div>\n",
              "<style scoped>\n",
              "    .dataframe tbody tr th:only-of-type {\n",
              "        vertical-align: middle;\n",
              "    }\n",
              "\n",
              "    .dataframe tbody tr th {\n",
              "        vertical-align: top;\n",
              "    }\n",
              "\n",
              "    .dataframe thead th {\n",
              "        text-align: right;\n",
              "    }\n",
              "</style>\n",
              "<table border=\"1\" class=\"dataframe\">\n",
              "  <thead>\n",
              "    <tr style=\"text-align: right;\">\n",
              "      <th></th>\n",
              "      <th>0</th>\n",
              "    </tr>\n",
              "  </thead>\n",
              "  <tbody>\n",
              "    <tr>\n",
              "      <th>6</th>\n",
              "      <td>0.333333</td>\n",
              "    </tr>\n",
              "    <tr>\n",
              "      <th>8</th>\n",
              "      <td>0.333333</td>\n",
              "    </tr>\n",
              "    <tr>\n",
              "      <th>12</th>\n",
              "      <td>0.333333</td>\n",
              "    </tr>\n",
              "  </tbody>\n",
              "</table>\n",
              "</div><br><label><b>dtype:</b> float64</label>"
            ]
          },
          "metadata": {},
          "execution_count": 53
        }
      ],
      "source": [
        "prior = Pmf(1/3, hypos)\n",
        "prior"
      ]
    },
    {
      "cell_type": "markdown",
      "metadata": {
        "id": "52cF-f__Qg92"
      },
      "source": [
        "As in the previous example, the prior probability gets broadcast across the hypotheses.\n",
        "The `Pmf` object has two attributes:\n",
        "\n",
        "* `qs` contains the quantities in the distribution;\n",
        "\n",
        "* `ps` contains the corresponding probabilities."
      ]
    },
    {
      "cell_type": "code",
      "execution_count": 54,
      "metadata": {
        "execution": {
          "iopub.execute_input": "2021-04-16T19:35:13.832345Z",
          "iopub.status.busy": "2021-04-16T19:35:13.831824Z",
          "iopub.status.idle": "2021-04-16T19:35:13.834159Z",
          "shell.execute_reply": "2021-04-16T19:35:13.834524Z"
        },
        "colab": {
          "base_uri": "https://localhost:8080/"
        },
        "id": "kShPOisQQg92",
        "outputId": "c43c0ef5-69e2-4add-9cc0-ae2df58425cb"
      },
      "outputs": [
        {
          "output_type": "execute_result",
          "data": {
            "text/plain": [
              "array([ 6,  8, 12])"
            ]
          },
          "metadata": {},
          "execution_count": 54
        }
      ],
      "source": [
        "prior.qs"
      ]
    },
    {
      "cell_type": "code",
      "execution_count": 55,
      "metadata": {
        "execution": {
          "iopub.execute_input": "2021-04-16T19:35:13.838296Z",
          "iopub.status.busy": "2021-04-16T19:35:13.837729Z",
          "iopub.status.idle": "2021-04-16T19:35:13.840670Z",
          "shell.execute_reply": "2021-04-16T19:35:13.840286Z"
        },
        "colab": {
          "base_uri": "https://localhost:8080/"
        },
        "id": "G7GHXnSwQg92",
        "outputId": "19fe677d-1bb1-467e-9929-816fda419741"
      },
      "outputs": [
        {
          "output_type": "execute_result",
          "data": {
            "text/plain": [
              "array([0.33333333, 0.33333333, 0.33333333])"
            ]
          },
          "metadata": {},
          "execution_count": 55
        }
      ],
      "source": [
        "prior.ps"
      ]
    },
    {
      "cell_type": "markdown",
      "metadata": {
        "id": "mwdgV2bvQg93"
      },
      "source": [
        "Now we're ready to do the update.\n",
        "Here's the likelihood of the data for each hypothesis."
      ]
    },
    {
      "cell_type": "code",
      "execution_count": 56,
      "metadata": {
        "execution": {
          "iopub.execute_input": "2021-04-16T19:35:13.844228Z",
          "iopub.status.busy": "2021-04-16T19:35:13.843723Z",
          "iopub.status.idle": "2021-04-16T19:35:13.845825Z",
          "shell.execute_reply": "2021-04-16T19:35:13.845372Z"
        },
        "id": "1ia017ufQg93"
      },
      "outputs": [],
      "source": [
        "likelihood1 = 1/6, 1/8, 1/12"
      ]
    },
    {
      "cell_type": "markdown",
      "metadata": {
        "id": "twlthe7NQg93"
      },
      "source": [
        "And here's the update."
      ]
    },
    {
      "cell_type": "code",
      "execution_count": 57,
      "metadata": {
        "execution": {
          "iopub.execute_input": "2021-04-16T19:35:13.852365Z",
          "iopub.status.busy": "2021-04-16T19:35:13.851589Z",
          "iopub.status.idle": "2021-04-16T19:35:13.855212Z",
          "shell.execute_reply": "2021-04-16T19:35:13.854647Z"
        },
        "colab": {
          "base_uri": "https://localhost:8080/",
          "height": 195
        },
        "id": "dSTEFWcIQg93",
        "outputId": "7518fca9-ecb5-4531-aac6-1d2aad49b08e"
      },
      "outputs": [
        {
          "output_type": "execute_result",
          "data": {
            "text/plain": [
              "6     0.444444\n",
              "8     0.333333\n",
              "12    0.222222\n",
              "dtype: float64"
            ],
            "text/html": [
              "<div>\n",
              "<style scoped>\n",
              "    .dataframe tbody tr th:only-of-type {\n",
              "        vertical-align: middle;\n",
              "    }\n",
              "\n",
              "    .dataframe tbody tr th {\n",
              "        vertical-align: top;\n",
              "    }\n",
              "\n",
              "    .dataframe thead th {\n",
              "        text-align: right;\n",
              "    }\n",
              "</style>\n",
              "<table border=\"1\" class=\"dataframe\">\n",
              "  <thead>\n",
              "    <tr style=\"text-align: right;\">\n",
              "      <th></th>\n",
              "      <th>0</th>\n",
              "    </tr>\n",
              "  </thead>\n",
              "  <tbody>\n",
              "    <tr>\n",
              "      <th>6</th>\n",
              "      <td>0.444444</td>\n",
              "    </tr>\n",
              "    <tr>\n",
              "      <th>8</th>\n",
              "      <td>0.333333</td>\n",
              "    </tr>\n",
              "    <tr>\n",
              "      <th>12</th>\n",
              "      <td>0.222222</td>\n",
              "    </tr>\n",
              "  </tbody>\n",
              "</table>\n",
              "</div><br><label><b>dtype:</b> float64</label>"
            ]
          },
          "metadata": {},
          "execution_count": 57
        }
      ],
      "source": [
        "posterior = prior * likelihood1\n",
        "posterior.normalize()\n",
        "posterior"
      ]
    },
    {
      "cell_type": "markdown",
      "metadata": {
        "id": "s4bF1iZNQg93"
      },
      "source": [
        "The posterior probability for the 6-sided die is $4/9$.\n",
        "\n",
        "Now suppose I roll the same die again and get a 7.\n",
        "Here are the likelihoods:"
      ]
    },
    {
      "cell_type": "code",
      "execution_count": 58,
      "metadata": {
        "execution": {
          "iopub.execute_input": "2021-04-16T19:35:13.859245Z",
          "iopub.status.busy": "2021-04-16T19:35:13.858594Z",
          "iopub.status.idle": "2021-04-16T19:35:13.860853Z",
          "shell.execute_reply": "2021-04-16T19:35:13.860402Z"
        },
        "id": "4K-sDLwEQg94"
      },
      "outputs": [],
      "source": [
        "likelihood2 = 0, 1/8, 1/12"
      ]
    },
    {
      "cell_type": "markdown",
      "metadata": {
        "id": "IC5koCFpQg94"
      },
      "source": [
        "The likelihood for the 6-sided die is 0 because it is not possible to get a 7 on a 6-sided die.\n",
        "The other two likelihoods are the same as in the previous update.\n",
        "\n",
        "Here's the update:"
      ]
    },
    {
      "cell_type": "code",
      "execution_count": 59,
      "metadata": {
        "execution": {
          "iopub.execute_input": "2021-04-16T19:35:13.867636Z",
          "iopub.status.busy": "2021-04-16T19:35:13.867119Z",
          "iopub.status.idle": "2021-04-16T19:35:13.870075Z",
          "shell.execute_reply": "2021-04-16T19:35:13.869606Z"
        },
        "colab": {
          "base_uri": "https://localhost:8080/",
          "height": 195
        },
        "id": "70AVSZI7Qg94",
        "outputId": "29e245a1-dbc2-45b9-d7ca-ab037d970db6"
      },
      "outputs": [
        {
          "output_type": "execute_result",
          "data": {
            "text/plain": [
              "6     0.000000\n",
              "8     0.692308\n",
              "12    0.307692\n",
              "dtype: float64"
            ],
            "text/html": [
              "<div>\n",
              "<style scoped>\n",
              "    .dataframe tbody tr th:only-of-type {\n",
              "        vertical-align: middle;\n",
              "    }\n",
              "\n",
              "    .dataframe tbody tr th {\n",
              "        vertical-align: top;\n",
              "    }\n",
              "\n",
              "    .dataframe thead th {\n",
              "        text-align: right;\n",
              "    }\n",
              "</style>\n",
              "<table border=\"1\" class=\"dataframe\">\n",
              "  <thead>\n",
              "    <tr style=\"text-align: right;\">\n",
              "      <th></th>\n",
              "      <th>0</th>\n",
              "    </tr>\n",
              "  </thead>\n",
              "  <tbody>\n",
              "    <tr>\n",
              "      <th>6</th>\n",
              "      <td>0.000000</td>\n",
              "    </tr>\n",
              "    <tr>\n",
              "      <th>8</th>\n",
              "      <td>0.692308</td>\n",
              "    </tr>\n",
              "    <tr>\n",
              "      <th>12</th>\n",
              "      <td>0.307692</td>\n",
              "    </tr>\n",
              "  </tbody>\n",
              "</table>\n",
              "</div><br><label><b>dtype:</b> float64</label>"
            ]
          },
          "metadata": {},
          "execution_count": 59
        }
      ],
      "source": [
        "posterior *= likelihood2\n",
        "posterior.normalize()\n",
        "posterior"
      ]
    },
    {
      "cell_type": "markdown",
      "metadata": {
        "id": "dkScOjbtQg94"
      },
      "source": [
        "After rolling a 1 and a 7, the posterior probability of the 8-sided die is about 69%."
      ]
    },
    {
      "cell_type": "markdown",
      "metadata": {
        "id": "lxdRVsonQg94"
      },
      "source": [
        "## Updating Dice\n",
        "\n",
        "The following function is a more general version of the update in the previous section:"
      ]
    },
    {
      "cell_type": "code",
      "execution_count": 60,
      "metadata": {
        "execution": {
          "iopub.execute_input": "2021-04-16T19:35:13.874004Z",
          "iopub.status.busy": "2021-04-16T19:35:13.873571Z",
          "iopub.status.idle": "2021-04-16T19:35:13.875415Z",
          "shell.execute_reply": "2021-04-16T19:35:13.875784Z"
        },
        "id": "prFaSSlaQg95"
      },
      "outputs": [],
      "source": [
        "def update_dice(pmf, data):\n",
        "    \"\"\"Update pmf based on new data.\"\"\"\n",
        "    hypos = pmf.qs\n",
        "    likelihood = 1 / hypos\n",
        "    impossible = (data > hypos)\n",
        "    likelihood[impossible] = 0\n",
        "    pmf *= likelihood\n",
        "    pmf.normalize()"
      ]
    },
    {
      "cell_type": "markdown",
      "metadata": {
        "id": "3961cdudQg95"
      },
      "source": [
        "The first parameter is a `Pmf` that represents the possible dice and their probabilities.\n",
        "The second parameter is the outcome of rolling a die.\n",
        "\n",
        "The first line selects quantities from the `Pmf` which represent the hypotheses.\n",
        "Since the hypotheses are integers, we can use them to compute the likelihoods.\n",
        "In general, if there are `n` sides on the die, the probability of any possible outcome is `1/n`.\n",
        "\n",
        "However, we have to check for impossible outcomes!\n",
        "If the outcome exceeds the hypothetical number of sides on the die, the probability of that outcome is 0.\n",
        "\n",
        "`impossible` is a Boolean `Series` that is `True` for each impossible outcome.\n",
        "I use it as an index into `likelihood` to set the corresponding probabilities to 0.\n",
        "\n",
        "Finally, I multiply `pmf` by the likelihoods and normalize.\n",
        "\n",
        "Here's how we can use this function to compute the updates in the previous section.\n",
        "I start with a fresh copy of the prior distribution:\n"
      ]
    },
    {
      "cell_type": "code",
      "execution_count": 61,
      "metadata": {
        "execution": {
          "iopub.execute_input": "2021-04-16T19:35:13.881390Z",
          "iopub.status.busy": "2021-04-16T19:35:13.880863Z",
          "iopub.status.idle": "2021-04-16T19:35:13.883304Z",
          "shell.execute_reply": "2021-04-16T19:35:13.883671Z"
        },
        "colab": {
          "base_uri": "https://localhost:8080/",
          "height": 195
        },
        "id": "n3UdeR-jQg95",
        "outputId": "e71b3768-a9f8-4ac8-83b2-6f5404d716cd"
      },
      "outputs": [
        {
          "output_type": "execute_result",
          "data": {
            "text/plain": [
              "6     0.333333\n",
              "8     0.333333\n",
              "12    0.333333\n",
              "dtype: float64"
            ],
            "text/html": [
              "<div>\n",
              "<style scoped>\n",
              "    .dataframe tbody tr th:only-of-type {\n",
              "        vertical-align: middle;\n",
              "    }\n",
              "\n",
              "    .dataframe tbody tr th {\n",
              "        vertical-align: top;\n",
              "    }\n",
              "\n",
              "    .dataframe thead th {\n",
              "        text-align: right;\n",
              "    }\n",
              "</style>\n",
              "<table border=\"1\" class=\"dataframe\">\n",
              "  <thead>\n",
              "    <tr style=\"text-align: right;\">\n",
              "      <th></th>\n",
              "      <th>0</th>\n",
              "    </tr>\n",
              "  </thead>\n",
              "  <tbody>\n",
              "    <tr>\n",
              "      <th>6</th>\n",
              "      <td>0.333333</td>\n",
              "    </tr>\n",
              "    <tr>\n",
              "      <th>8</th>\n",
              "      <td>0.333333</td>\n",
              "    </tr>\n",
              "    <tr>\n",
              "      <th>12</th>\n",
              "      <td>0.333333</td>\n",
              "    </tr>\n",
              "  </tbody>\n",
              "</table>\n",
              "</div><br><label><b>dtype:</b> float64</label>"
            ]
          },
          "metadata": {},
          "execution_count": 61
        }
      ],
      "source": [
        "pmf = prior.copy()\n",
        "pmf"
      ]
    },
    {
      "cell_type": "markdown",
      "metadata": {
        "id": "VOPbXx6_Qg95"
      },
      "source": [
        "And use `update_dice` to do the updates."
      ]
    },
    {
      "cell_type": "code",
      "execution_count": 62,
      "metadata": {
        "execution": {
          "iopub.execute_input": "2021-04-16T19:35:13.890748Z",
          "iopub.status.busy": "2021-04-16T19:35:13.890070Z",
          "iopub.status.idle": "2021-04-16T19:35:13.893912Z",
          "shell.execute_reply": "2021-04-16T19:35:13.893421Z"
        },
        "colab": {
          "base_uri": "https://localhost:8080/",
          "height": 195
        },
        "id": "t6eJRuVhQg95",
        "outputId": "f1e600ef-8726-4a6c-ccfb-8816af312312"
      },
      "outputs": [
        {
          "output_type": "execute_result",
          "data": {
            "text/plain": [
              "6     0.000000\n",
              "8     0.692308\n",
              "12    0.307692\n",
              "dtype: float64"
            ],
            "text/html": [
              "<div>\n",
              "<style scoped>\n",
              "    .dataframe tbody tr th:only-of-type {\n",
              "        vertical-align: middle;\n",
              "    }\n",
              "\n",
              "    .dataframe tbody tr th {\n",
              "        vertical-align: top;\n",
              "    }\n",
              "\n",
              "    .dataframe thead th {\n",
              "        text-align: right;\n",
              "    }\n",
              "</style>\n",
              "<table border=\"1\" class=\"dataframe\">\n",
              "  <thead>\n",
              "    <tr style=\"text-align: right;\">\n",
              "      <th></th>\n",
              "      <th>0</th>\n",
              "    </tr>\n",
              "  </thead>\n",
              "  <tbody>\n",
              "    <tr>\n",
              "      <th>6</th>\n",
              "      <td>0.000000</td>\n",
              "    </tr>\n",
              "    <tr>\n",
              "      <th>8</th>\n",
              "      <td>0.692308</td>\n",
              "    </tr>\n",
              "    <tr>\n",
              "      <th>12</th>\n",
              "      <td>0.307692</td>\n",
              "    </tr>\n",
              "  </tbody>\n",
              "</table>\n",
              "</div><br><label><b>dtype:</b> float64</label>"
            ]
          },
          "metadata": {},
          "execution_count": 62
        }
      ],
      "source": [
        "update_dice(pmf, 1)\n",
        "update_dice(pmf, 7)\n",
        "pmf"
      ]
    },
    {
      "cell_type": "markdown",
      "metadata": {
        "id": "fDhfmxwfQg96"
      },
      "source": [
        "The result is the same.  We will see a version of this function in the next chapter."
      ]
    },
    {
      "cell_type": "markdown",
      "metadata": {
        "id": "I8nsF0v7Qg96"
      },
      "source": [
        "## Summary\n",
        "\n",
        "This chapter introduces the `empiricaldist` module, which provides `Pmf`, which we use to represent a set of hypotheses and their probabilities.\n",
        "\n",
        "`empiricaldist` is based on Pandas; the `Pmf` class inherits from the Pandas `Series` class and provides additional features specific to probability mass functions.\n",
        "We'll use `Pmf` and other classes from `empiricaldist` throughout the book because they simplify the code and make it more readable.\n",
        "But we could do the same things directly with Pandas.\n",
        "\n",
        "We use a `Pmf` to solve the cookie problem and the dice problem, which we saw in the previous chapter.\n",
        "With a `Pmf` it is easy to perform sequential updates with multiple pieces of data.\n",
        "\n",
        "We also solved a more general version of the cookie problem, with 101 bowls rather than two.\n",
        "Then we computed the MAP, which is the quantity with the highest posterior probability.\n",
        "\n",
        "In the next chapter, I'll introduce the Euro problem, and we will use the binomial distribution.\n",
        "And, at last, we will make the leap from using Bayes's Theorem to doing Bayesian statistics.\n",
        "\n",
        "But first you might want to work on the exercises."
      ]
    },
    {
      "cell_type": "markdown",
      "metadata": {
        "id": "UJ5FH1AqQg96"
      },
      "source": [
        "## Exercises"
      ]
    },
    {
      "cell_type": "markdown",
      "metadata": {
        "id": "QYo_yeR4Qg96"
      },
      "source": [
        "**Exercise:** Suppose I have a box with a 6-sided die, an 8-sided die, and a 12-sided die.\n",
        "I choose one of the dice at random, roll it four times, and get 1, 3, 5, and 7.\n",
        "What is the probability that I chose the 8-sided die?\n",
        "\n",
        "You can use the `update_dice` function or do the update yourself."
      ]
    },
    {
      "cell_type": "code",
      "execution_count": null,
      "metadata": {
        "execution": {
          "iopub.execute_input": "2021-04-16T19:35:13.904691Z",
          "iopub.status.busy": "2021-04-16T19:35:13.904111Z",
          "iopub.status.idle": "2021-04-16T19:35:13.907043Z",
          "shell.execute_reply": "2021-04-16T19:35:13.906676Z"
        },
        "id": "dG6415gRQg96"
      },
      "outputs": [],
      "source": [
        "# Solution goes here"
      ]
    },
    {
      "cell_type": "markdown",
      "metadata": {
        "id": "LFNm9Db-Qg97"
      },
      "source": [
        "**Exercise:** In the previous version of the dice problem, the prior probabilities are the same because the box contains one of each die.\n",
        "But suppose the box contains 1 die that is 4-sided, 2 dice that are 6-sided, 3 dice that are 8-sided, 4 dice that are 12-sided, and 5 dice that are 20-sided.\n",
        "I choose a die, roll it, and get a 7.\n",
        "What is the probability that I chose an 8-sided die?\n",
        "\n",
        "Hint: To make the prior distribution, call `Pmf` with two parameters."
      ]
    },
    {
      "cell_type": "code",
      "execution_count": null,
      "metadata": {
        "execution": {
          "iopub.execute_input": "2021-04-16T19:35:13.914938Z",
          "iopub.status.busy": "2021-04-16T19:35:13.914323Z",
          "iopub.status.idle": "2021-04-16T19:35:13.916995Z",
          "shell.execute_reply": "2021-04-16T19:35:13.917367Z"
        },
        "id": "A2-IudOBQg97"
      },
      "outputs": [],
      "source": [
        "# Solution goes here"
      ]
    },
    {
      "cell_type": "markdown",
      "metadata": {
        "id": "Ha53nbwIQg97"
      },
      "source": [
        "**Exercise:** Suppose I have two sock drawers.\n",
        "One contains equal numbers of black and white socks.\n",
        "The other contains equal numbers of red, green, and blue socks.\n",
        "Suppose I choose a drawer at random, choose two socks at random, and I tell you that I got a matching pair.\n",
        "What is the probability that the socks are white?\n",
        "\n",
        "For simplicity, let's assume that there are so many socks in both drawers that removing one sock makes a negligible change to the proportions."
      ]
    },
    {
      "cell_type": "code",
      "execution_count": null,
      "metadata": {
        "execution": {
          "iopub.execute_input": "2021-04-16T19:35:13.925514Z",
          "iopub.status.busy": "2021-04-16T19:35:13.924848Z",
          "iopub.status.idle": "2021-04-16T19:35:13.927865Z",
          "shell.execute_reply": "2021-04-16T19:35:13.927501Z"
        },
        "id": "2qFQnn8zQg97"
      },
      "outputs": [],
      "source": [
        "# Solution goes here"
      ]
    },
    {
      "cell_type": "code",
      "execution_count": null,
      "metadata": {
        "execution": {
          "iopub.execute_input": "2021-04-16T19:35:13.931373Z",
          "iopub.status.busy": "2021-04-16T19:35:13.930918Z",
          "iopub.status.idle": "2021-04-16T19:35:13.933340Z",
          "shell.execute_reply": "2021-04-16T19:35:13.933685Z"
        },
        "id": "nKCnGSVTQg97"
      },
      "outputs": [],
      "source": [
        "# Solution goes here"
      ]
    },
    {
      "cell_type": "markdown",
      "metadata": {
        "id": "GjPJqPKMQg98"
      },
      "source": [
        "**Exercise:** Here's a problem from [Bayesian Data Analysis](http://www.stat.columbia.edu/~gelman/book/):\n",
        "\n",
        "> Elvis Presley had a twin brother (who died at birth). What is the probability that Elvis was an identical twin?\n",
        "\n",
        "Hint: In 1935, about 2/3 of twins were fraternal and 1/3 were identical."
      ]
    },
    {
      "cell_type": "code",
      "execution_count": null,
      "metadata": {
        "execution": {
          "iopub.execute_input": "2021-04-16T19:35:13.942870Z",
          "iopub.status.busy": "2021-04-16T19:35:13.942005Z",
          "iopub.status.idle": "2021-04-16T19:35:13.950507Z",
          "shell.execute_reply": "2021-04-16T19:35:13.950906Z"
        },
        "id": "LSoezEClQg98"
      },
      "outputs": [],
      "source": [
        "# Solution goes here"
      ]
    },
    {
      "cell_type": "code",
      "execution_count": null,
      "metadata": {
        "execution": {
          "iopub.execute_input": "2021-04-16T19:35:13.957464Z",
          "iopub.status.busy": "2021-04-16T19:35:13.956748Z",
          "iopub.status.idle": "2021-04-16T19:35:13.959501Z",
          "shell.execute_reply": "2021-04-16T19:35:13.959878Z"
        },
        "id": "sxW7qNOvQg98"
      },
      "outputs": [],
      "source": [
        "# Solution goes here"
      ]
    },
    {
      "cell_type": "code",
      "execution_count": null,
      "metadata": {
        "execution": {
          "iopub.execute_input": "2021-04-16T19:35:13.967573Z",
          "iopub.status.busy": "2021-04-16T19:35:13.966835Z",
          "iopub.status.idle": "2021-04-16T19:35:13.970002Z",
          "shell.execute_reply": "2021-04-16T19:35:13.969457Z"
        },
        "id": "Z0vmjOIFQg98"
      },
      "outputs": [],
      "source": [
        "# Solution goes here"
      ]
    }
  ],
  "metadata": {
    "celltoolbar": "Tags",
    "kernelspec": {
      "display_name": "Python 3 (ipykernel)",
      "language": "python",
      "name": "python3"
    },
    "language_info": {
      "codemirror_mode": {
        "name": "ipython",
        "version": 3
      },
      "file_extension": ".py",
      "mimetype": "text/x-python",
      "name": "python",
      "nbconvert_exporter": "python",
      "pygments_lexer": "ipython3",
      "version": "3.9.12"
    },
    "colab": {
      "provenance": [],
      "include_colab_link": true
    }
  },
  "nbformat": 4,
  "nbformat_minor": 0
}